{
 "cells": [
  {
   "cell_type": "code",
   "execution_count": null,
   "metadata": {},
   "outputs": [],
   "source": [
    "# importing libraries\n",
    "\n",
    "from bs4 import BeautifulSoup               #This line imports the BeautifulSoup library, which is used for parsing HTML and XML documents\n",
    "import requests                             #This imports the requests library, which allows you to send HTTP requests easily from Python\n",
    "import smtplib                              #helps to send emails to yourself\n",
    "import time                                 #This imports the time module, which provides various time-related functions. \n",
    "import datetime                             #This imports the datetime module, which provides classes for manipulating dates and times in Python"
   ]
  },
  {
   "cell_type": "code",
   "execution_count": 3,
   "metadata": {},
   "outputs": [
    {
     "name": "stdout",
     "output_type": "stream",
     "text": [
      "\n",
      "             Amazon Fire TV 55\" Omni Series 4K UHD smart TV, hands-free with Alexa\n",
      "            \n",
      "\n",
      "                     Page 1 of 1\n",
      "                    \n"
     ]
    }
   ],
   "source": [
    "# Connecting to website:\n",
    "\n",
    "URL = 'https://www.amazon.com/dp/B08P3QVFMK/ref=va_live_carousel?pf_rd_r=21YKY0NNTM4TYDMBA65M&pf_rd_p=7ef999c1-65b4-4260-a45c-63151ac479ae&pf_rd_m=ATVPDKIKX0DER&pf_rd_t=HighVelocityEvent&pf_rd_i=deals_1_desktop&pf_rd_s=slot-13&pd_rd_w=Xl9C4&pd_rd_r=d4f3dc68-b952-41a8-a09d-06df42d39815&pd_rd_wg=0UBZJ&asc_contentid=amzn1.amazonlive.broadcast.dd3712f0-7813-427b-a5f7-887d7598b226&pd_rd_i=B08P3QVFMK&th=1&psc=1'\n",
    "headers = {\"User-Agent\": \"Mozilla/5.0 (Windows NT 10.0; Win64; x64) AppleWebKit/537.36 (KHTML, like Gecko) Chrome/124.0.0.0 Safari/537.36\", \"Accept-Encoding\":\"gzip, deflate\", \"Accept\":\"text/html,application/xhtml+xml,application/xml;q=0.9,*/*;q=0.8\", \"DNT\":\"1\",\"Connection\":\"close\", \"Upgrade-Insecure-Requests\":\"1\"}\n",
    "\n",
    "page = requests.get(URL, headers = headers)\n",
    "\n",
    "soup1 = BeautifulSoup(page.content, \"html.parser\")\n",
    "\n",
    "soup2 = BeautifulSoup(soup1.prettify(), \"html.parser\")\n",
    "\n",
    "title = soup2.find(id='productTitle').get_text()\n",
    "\n",
    "price = soup2.find(class_ = 'a-offscreen').get_text()\n",
    "\n",
    "print(title)\n",
    "print(price)\n",
    "\n",
    "\n"
   ]
  },
  {
   "cell_type": "code",
   "execution_count": 4,
   "metadata": {},
   "outputs": [
    {
     "name": "stdout",
     "output_type": "stream",
     "text": [
      "Amazon Fire TV 55\" Omni Series 4K UHD smart TV, hands-free with Alexa\n",
      "age 1 of 1\n"
     ]
    }
   ],
   "source": [
    "price = price.strip()[1:]\n",
    "title = title.strip()\n",
    "\n",
    "print(title)\n",
    "print(price)"
   ]
  },
  {
   "cell_type": "code",
   "execution_count": 5,
   "metadata": {},
   "outputs": [
    {
     "name": "stdout",
     "output_type": "stream",
     "text": [
      "2024-04-28\n"
     ]
    }
   ],
   "source": [
    "import datetime\n",
    "\n",
    "today = datetime.date.today()\n",
    "\n",
    "print(today)"
   ]
  },
  {
   "cell_type": "code",
   "execution_count": 6,
   "metadata": {},
   "outputs": [],
   "source": [
    "import csv\n",
    "\n",
    "header = ['Title','Price','Date']\n",
    "data = [title,price,today]\n",
    "\n",
    "with open('AmazonWebScrapper.csv', 'w', newline='', encoding='UTF8') as f:\n",
    "    writer = csv.writer(f)\n",
    "    writer.writerow(header)\n",
    "    writer.writerow(data)"
   ]
  },
  {
   "cell_type": "code",
   "execution_count": 7,
   "metadata": {},
   "outputs": [
    {
     "name": "stdout",
     "output_type": "stream",
     "text": [
      "                                                Title   Price        Date\n",
      "0   Amazon Fire TV 55\" Omni Series 4K UHD smart TV...  349.99  2024-04-22\n",
      "1   Amazon Fire TV 55\" Omni Series 4K UHD smart TV...  349.99  2024-04-22\n",
      "2   Amazon Fire TV 55\" Omni Series 4K UHD smart TV...  349.99  2024-04-22\n",
      "3   Amazon Fire TV 55\" Omni Series 4K UHD smart TV...  349.99  2024-04-22\n",
      "4   Amazon Fire TV 55\" Omni Series 4K UHD smart TV...  349.99  2024-04-22\n",
      "5   Amazon Fire TV 55\" Omni Series 4K UHD smart TV...  349.99  2024-04-22\n",
      "6   Amazon Fire TV 55\" Omni Series 4K UHD smart TV...  349.99  2024-04-22\n",
      "7   Amazon Fire TV 55\" Omni Series 4K UHD smart TV...  349.99  2024-04-22\n",
      "8   Amazon Fire TV 55\" Omni Series 4K UHD smart TV...  349.99  2024-04-22\n",
      "9   Amazon Fire TV 55\" Omni Series 4K UHD smart TV...  349.99  2024-04-22\n",
      "10  Amazon Fire TV 55\" Omni Series 4K UHD smart TV...  349.99  2024-04-22\n",
      "11  Amazon Fire TV 55\" Omni Series 4K UHD smart TV...  349.99  2024-04-22\n"
     ]
    }
   ],
   "source": [
    "import pandas as pd\n",
    "\n",
    "df = pd.read_csv(r\"C:\\users\\ritik barnwal\\AmazonWebScrapper.csv\")\n",
    "\n",
    "print(df)"
   ]
  },
  {
   "cell_type": "code",
   "execution_count": 8,
   "metadata": {},
   "outputs": [],
   "source": [
    "# Now we are appending the data:\n",
    "\n",
    "with open('AmazonWebScrapper.csv', 'a+', newline='', encoding='UTF8') as f:\n",
    "    writer = csv.writer(f)\n",
    "    # writer.writerow(header)\n",
    "    writer.writerow(data)"
   ]
  },
  {
   "cell_type": "code",
   "execution_count": 9,
   "metadata": {},
   "outputs": [],
   "source": [
    "def check_price():\n",
    "    URL = 'https://www.amazon.com/dp/B08P3QVFMK/ref=va_live_carousel?pf_rd_r=21YKY0NNTM4TYDMBA65M&pf_rd_p=7ef999c1-65b4-4260-a45c-63151ac479ae&pf_rd_m=ATVPDKIKX0DER&pf_rd_t=HighVelocityEvent&pf_rd_i=deals_1_desktop&pf_rd_s=slot-13&pd_rd_w=Xl9C4&pd_rd_r=d4f3dc68-b952-41a8-a09d-06df42d39815&pd_rd_wg=0UBZJ&asc_contentid=amzn1.amazonlive.broadcast.dd3712f0-7813-427b-a5f7-887d7598b226&pd_rd_i=B08P3QVFMK&th=1&psc=1'\n",
    "    headers = {\"User-Agent\": \"Mozilla/5.0 (Windows NT 10.0; Win64; x64) AppleWebKit/537.36 (KHTML, like Gecko) Chrome/124.0.0.0 Safari/537.36\", \"Accept-Encoding\":\"gzip, deflate\", \"Accept\":\"text/html,application/xhtml+xml,application/xml;q=0.9,*/*;q=0.8\", \"DNT\":\"1\",\"Connection\":\"close\", \"Upgrade-Insecure-Requests\":\"1\"}\n",
    "\n",
    "    page = requests.get(URL, headers = headers)\n",
    "\n",
    "    soup1 = BeautifulSoup(page.content, \"html.parser\")\n",
    "\n",
    "    soup2 = BeautifulSoup(soup1.prettify(), \"html.parser\")\n",
    "\n",
    "    title = soup2.find(id='productTitle').get_text()\n",
    "\n",
    "    price = soup2.find(class_ = 'a-offscreen').get_text()\n",
    "\n",
    "    price = price.strip()[1:]\n",
    "    title = title.strip()\n",
    "\n",
    "    import datetime\n",
    "\n",
    "    today = datetime.date.today()\n",
    "\n",
    "    import csv\n",
    "\n",
    "    header = ['Title','Price','Date']\n",
    "    data = [title,price,today]\n",
    "\n",
    "    with open('AmazonWebScrapper.csv', 'a+', newline='', encoding='UTF8') as f:      # Here I made mistake, I wrote w as write more instead of a as append mode\n",
    "        writer = csv.writer(f)\n",
    "        # writer.writerow(header)\n",
    "        writer.writerow(data)\n",
    "\n",
    "    if (price == 349.99):\n",
    "        send_email()\n",
    "    \n"
   ]
  },
  {
   "cell_type": "code",
   "execution_count": 10,
   "metadata": {},
   "outputs": [],
   "source": [
    "while (True):\n",
    "    check_price()\n",
    "    time.sleep(86400)    # This \"86400\" will run 24 hours, means whole day. daily       "
   ]
  },
  {
   "cell_type": "code",
   "execution_count": 1,
   "metadata": {},
   "outputs": [
    {
     "name": "stdout",
     "output_type": "stream",
     "text": [
      "                                                Title   Price        Date\n",
      "0   Amazon Fire TV 55\" Omni Series 4K UHD smart TV...  349.99  2024-04-22\n",
      "1   Amazon Fire TV 55\" Omni Series 4K UHD smart TV...  349.99  2024-04-22\n",
      "2   Amazon Fire TV 55\" Omni Series 4K UHD smart TV...  349.99  2024-04-22\n",
      "3   Amazon Fire TV 55\" Omni Series 4K UHD smart TV...  349.99  2024-04-22\n",
      "4   Amazon Fire TV 55\" Omni Series 4K UHD smart TV...  349.99  2024-04-22\n",
      "5   Amazon Fire TV 55\" Omni Series 4K UHD smart TV...  349.99  2024-04-22\n",
      "6   Amazon Fire TV 55\" Omni Series 4K UHD smart TV...  349.99  2024-04-22\n",
      "7   Amazon Fire TV 55\" Omni Series 4K UHD smart TV...  349.99  2024-04-22\n",
      "8   Amazon Fire TV 55\" Omni Series 4K UHD smart TV...  349.99  2024-04-22\n",
      "9   Amazon Fire TV 55\" Omni Series 4K UHD smart TV...  349.99  2024-04-22\n",
      "10  Amazon Fire TV 55\" Omni Series 4K UHD smart TV...  349.99  2024-04-22\n",
      "11  Amazon Fire TV 55\" Omni Series 4K UHD smart TV...  349.99  2024-04-22\n"
     ]
    }
   ],
   "source": [
    "import pandas as pd\n",
    "\n",
    "df = pd.read_csv(r\"C:\\users\\ritik barnwal\\AmazonWebScrapper.csv\")\n",
    "\n",
    "print(df)"
   ]
  },
  {
   "cell_type": "code",
   "execution_count": 2,
   "metadata": {},
   "outputs": [],
   "source": [
    "def send_email():\n",
    "    server = smtplib.SMTP_SSL('smtp.gmail.com',465)\n",
    "    server.ehlo()\n",
    "    # server.starttls()\n",
    "    server.ehlo()\n",
    "    server.login('kara20207272@gmail.com', 'ritik0221')\n",
    "\n",
    "    subject = \"Let's Buy!!\"\n",
    "    body = \"You want to buy this tv, let's do this now\"\n",
    "\n",
    "    msg = f\"Subject: {subject}\\n\\n{body}\"\n",
    "\n",
    "    server.sendmail(\n",
    "        'kara20207272@gmail.com',\n",
    "        msg\n",
    "    )"
   ]
  },
  {
   "cell_type": "code",
   "execution_count": null,
   "metadata": {},
   "outputs": [],
   "source": []
  }
 ],
 "metadata": {
  "kernelspec": {
   "display_name": "Python 3",
   "language": "python",
   "name": "python3"
  },
  "language_info": {
   "codemirror_mode": {
    "name": "ipython",
    "version": 3
   },
   "file_extension": ".py",
   "mimetype": "text/x-python",
   "name": "python",
   "nbconvert_exporter": "python",
   "pygments_lexer": "ipython3",
   "version": "3.12.0"
  }
 },
 "nbformat": 4,
 "nbformat_minor": 2
}
